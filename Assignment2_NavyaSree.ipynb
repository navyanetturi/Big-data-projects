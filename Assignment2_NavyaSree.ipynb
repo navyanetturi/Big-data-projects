{
 "cells": [
  {
   "cell_type": "code",
   "execution_count": 247,
   "id": "be3a5a73",
   "metadata": {},
   "outputs": [],
   "source": [
    "import  numpy as np"
   ]
  },
  {
   "cell_type": "code",
   "execution_count": 248,
   "id": "b6339f21",
   "metadata": {},
   "outputs": [
    {
     "data": {
      "text/plain": [
       "array([[372, 762, 570, 981, 791, 844, 867, 805,   7, 533],\n",
       "       [944, 726, 613, 750, 638, 187, 868, 969,  16, 353],\n",
       "       [829, 938, 909, 529, 784, 353, 201, 903, 314, 498],\n",
       "       [859, 985, 396, 831, 178, 826,  74, 889, 225, 424],\n",
       "       [218, 893, 665, 679, 836, 883, 778,  50,  47, 708],\n",
       "       [906, 466, 741, 149, 892,  54, 923, 553, 658, 769],\n",
       "       [480, 704, 795, 588, 902, 929, 338, 715, 406, 790],\n",
       "       [900, 147, 936,  74, 935, 734, 500, 782, 128, 154],\n",
       "       [102, 215, 166, 468, 664, 798, 630, 355, 776, 422],\n",
       "       [400, 869, 103, 725, 587, 101, 408, 439, 412, 478]])"
      ]
     },
     "execution_count": 248,
     "metadata": {},
     "output_type": "execute_result"
    }
   ],
   "source": [
    "#Generate a random 10 by 10 matrix with random integers chosen from [1,1000]\n",
    "matrix1 = np.random.randint(1,1000,size=(10,10))\n",
    "matrix1\n"
   ]
  },
  {
   "cell_type": "code",
   "execution_count": 258,
   "id": "2842fefd",
   "metadata": {},
   "outputs": [],
   "source": [
    "#Suppose the following dictionary saves the information about the data submission with respect to the original 10 by 10 matrix: \n",
    "#{‘Bob’:[0,3,7],’Alice’:[2,4,8],’Caro’:[1,9],’Dave’:[5,6]}. For example, Bob submitted the 1st, 4th, and 8th rows \n",
    "#and Caro submitted the 2nd and 10th rows. Calculate the following items:\n",
    "list1 = matrix1.tolist()\n",
    "dict1= {}\n",
    "dict1= {'Bob' :list1[0]+list1[3]+list1[7], \n",
    "        'Alice' : list1[2]+list1[4]+list1[8] , \n",
    "        'Caro' : list1[1]+list1[9] , \n",
    "        'Dave' : list1[5]+list1[6] \n",
    "                       \n",
    "                       }\n",
    "\n",
    "\n"
   ]
  },
  {
   "cell_type": "code",
   "execution_count": 250,
   "id": "bec78ce6",
   "metadata": {},
   "outputs": [
    {
     "data": {
      "text/plain": [
       "561.9"
      ]
     },
     "execution_count": 250,
     "metadata": {},
     "output_type": "execute_result"
    }
   ],
   "source": [
    "#a.\tThe mean of data submitted by Bob and Caro together\n",
    "res1 = dict1['Bob']+dict1['Caro']\n",
    "mean= sum(res1)/len(res1)\n",
    "mean\n",
    "    \n"
   ]
  },
  {
   "cell_type": "code",
   "execution_count": 251,
   "id": "ebd4ef14",
   "metadata": {},
   "outputs": [
    {
     "data": {
      "text/plain": [
       "array([383.        , 682.        , 580.        , 558.66666667,\n",
       "       761.33333333, 678.        , 536.33333333, 436.        ,\n",
       "       379.        , 542.66666667])"
      ]
     },
     "execution_count": 251,
     "metadata": {},
     "output_type": "execute_result"
    }
   ],
   "source": [
    "#b.\tThe column-wise mean of data submitted by Alice\n",
    "res2= dict1['Alice']\n",
    "alice = np.array(res2).reshape(3,10)\n",
    "alice\n",
    "mean1= np.mean(alice, axis =0)\n",
    "mean1"
   ]
  },
  {
   "cell_type": "code",
   "execution_count": 252,
   "id": "5fb7b8c1",
   "metadata": {},
   "outputs": [
    {
     "data": {
      "text/plain": [
       "array([906, 741, 892, 923, 553, 658, 769, 704, 795, 588, 902, 929, 715,\n",
       "       790])"
      ]
     },
     "execution_count": 252,
     "metadata": {},
     "output_type": "execute_result"
    }
   ],
   "source": [
    "#c Data from Dave where they are greater than 500, if any\n",
    "dave = np.array(dict1['Dave'])\n",
    "ans= np.array(dave[dave>500])\n",
    "ans\n"
   ]
  },
  {
   "cell_type": "code",
   "execution_count": 253,
   "id": "3d1bbd16",
   "metadata": {},
   "outputs": [
    {
     "data": {
      "text/plain": [
       "array([306.35508809, 227.75636105, 292.48673474, 194.05517257])"
      ]
     },
     "execution_count": 253,
     "metadata": {},
     "output_type": "execute_result"
    }
   ],
   "source": [
    "#d.\tThe row-wise standard deviation of data submitted by Caro and Dave\n",
    "caro = np.array(dict1['Caro']).reshape(2,10)\n",
    "dave = np.array(dict1['Dave']).reshape(2,10)\n",
    "x= np.concatenate((caro,dave),axis=0)\n",
    "\n",
    "std= np.std(x, axis =1)\n",
    "std"
   ]
  },
  {
   "cell_type": "code",
   "execution_count": 254,
   "id": "b0e425e2",
   "metadata": {},
   "outputs": [
    {
     "data": {
      "text/plain": [
       "array([[  0,   0,   0, 981, 791, 844, 867,   0,   0, 533],\n",
       "       [859, 985,   0, 831,   0,   0,   0, 889, 225,   0],\n",
       "       [900,   0, 936,   0, 935,   0,   0, 782,   0,   0]])"
      ]
     },
     "execution_count": 254,
     "metadata": {},
     "output_type": "execute_result"
    }
   ],
   "source": [
    "#e.\tData from Bob where they are greater than their element-wise counterpart from Alice, if any\n",
    "bob = np.array(dict1['Bob']).reshape(3,10)\n",
    "alice = np.array(dict1['Alice']).reshape(3,10)\n",
    "bob[alice>bob] =0\n",
    "bob\n",
    "    \n"
   ]
  },
  {
   "cell_type": "code",
   "execution_count": 255,
   "id": "e0979dc0",
   "metadata": {},
   "outputs": [
    {
     "data": {
      "text/plain": [
       "array([90, 12, 96, 88, 98, 50])"
      ]
     },
     "execution_count": 255,
     "metadata": {},
     "output_type": "execute_result"
    }
   ],
   "source": [
    "#Define a function called get_even, which takes a numpy 2d-array as input and returns all the values inside\n",
    "#that are even numbers.\n",
    "# (i). for random numbers\n",
    "def get_even(A):\n",
    "    assert(type(A) == np.ndarray and A.ndim == 2)\n",
    "    return A[A%2 == 0]         \n",
    "X = np.random.randint(1,100,size=(3,4))\n",
    "get_even(X)\n"
   ]
  },
  {
   "cell_type": "code",
   "execution_count": 256,
   "id": "5d5f5d71",
   "metadata": {},
   "outputs": [
    {
     "data": {
      "text/plain": [
       "array([4, 8, 6])"
      ]
     },
     "execution_count": 256,
     "metadata": {},
     "output_type": "execute_result"
    }
   ],
   "source": [
    "# (ii). for the input specified in file (Sample output file)\n",
    "def get_even(A):\n",
    "    assert(type(A) == np.ndarray and A.ndim == 2)\n",
    "    return A[A%2 == 0]\n",
    "                             \n",
    "x=[[1,4,8],[1,9,6]]\n",
    "X=np.array(x)\n",
    "get_even(X)\n"
   ]
  },
  {
   "cell_type": "code",
   "execution_count": 259,
   "id": "b4602b78",
   "metadata": {},
   "outputs": [
    {
     "name": "stdout",
     "output_type": "stream",
     "text": [
      "[[0. 0. 0. 0.]\n",
      " [0. 0. 0. 0.]\n",
      " [0. 0. 0. 0.]\n",
      " [0. 0. 0. 0.]]\n"
     ]
    },
    {
     "data": {
      "text/plain": [
       "array([[0., 0., 0., 0., 0., 0., 0.],\n",
       "       [0., 0., 0., 0., 0., 0., 0.],\n",
       "       [0., 0., 0., 0., 0., 0., 0.],\n",
       "       [0., 0., 0., 0., 0., 0., 0.],\n",
       "       [0., 0., 0., 0., 0., 0., 0.],\n",
       "       [0., 0., 0., 0., 0., 0., 0.],\n",
       "       [0., 0., 0., 0., 0., 0., 0.]])"
      ]
     },
     "execution_count": 259,
     "metadata": {},
     "output_type": "execute_result"
    }
   ],
   "source": [
    "import math\n",
    "def pad(A, edge=1):\n",
    "    assert(type(A) == np.ndarray and A.ndim == 2)\n",
    "     \n",
    "    zero_matrix = np.zeros([A.shape[0]+2*edge, A.shape[1]+2*edge])\n",
    "    zero_matrix_rows = zero_matrix.shape[0]\n",
    "    given_matrix_rows = A.shape[0]\n",
    "    x = (zero_matrix_rows // 2) - (given_matrix_rows // 2)\n",
    "    y = math.ceil((zero_matrix_rows / 2)) + (given_matrix_rows // 2)\n",
    "    A = zero_matrix[x:y, x:y]\n",
    "    return zero_matrix\n",
    "\n",
    "twobytwo = np.random.randint(1,100,size=(2,2))\n",
    "print(pad(twobytwo))\n",
    "\n",
    "three_dimension = np.random.randint(1,100,size=(3,3))\n",
    "pad(three_dimension,2)\n"
   ]
  },
  {
   "cell_type": "code",
   "execution_count": null,
   "id": "6f783a7b",
   "metadata": {},
   "outputs": [],
   "source": []
  }
 ],
 "metadata": {
  "kernelspec": {
   "display_name": "Python 3 (ipykernel)",
   "language": "python",
   "name": "python3"
  },
  "language_info": {
   "codemirror_mode": {
    "name": "ipython",
    "version": 3
   },
   "file_extension": ".py",
   "mimetype": "text/x-python",
   "name": "python",
   "nbconvert_exporter": "python",
   "pygments_lexer": "ipython3",
   "version": "3.9.13"
  }
 },
 "nbformat": 4,
 "nbformat_minor": 5
}
